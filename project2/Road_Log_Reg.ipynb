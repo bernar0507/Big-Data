{
 "cells": [
  {
   "cell_type": "markdown",
   "metadata": {},
   "source": [
    "# Road Safety Dataset\n",
    "## Logistic Regression"
   ]
  },
  {
   "cell_type": "markdown",
   "metadata": {},
   "source": [
    "by Bernardo Augusto and Miguel Cisneiros"
   ]
  },
  {
   "cell_type": "code",
   "execution_count": null,
   "metadata": {},
   "outputs": [],
   "source": []
  },
  {
   "cell_type": "code",
   "execution_count": 2,
   "metadata": {},
   "outputs": [],
   "source": [
    "# Imports\n",
    "from pyspark import SparkFiles\n",
    "\n",
    "import pandas as pd\n",
    "import seaborn as sns\n",
    "import matplotlib.pyplot as plt\n",
    "import numpy as np\n",
    "import plotly.express as px\n",
    "\n",
    "\n",
    "\n",
    "from pyspark.sql import functions as F\n",
    "\n",
    "from pyspark.ml import Pipeline\n",
    "from pyspark.ml.feature import IndexToString, StringIndexer, VectorIndexer\n",
    "from pyspark.ml.evaluation import MulticlassClassificationEvaluator\n",
    "\n",
    "\n",
    "from sklearn import metrics\n",
    "from sklearn.metrics import classification_report \n",
    "\n",
    "\n",
    "import findspark\n",
    "findspark.init()\n",
    "import pyspark # Call this only after findspark.init()\n",
    "from pyspark.context import SparkContext\n",
    "from pyspark.sql.session import SparkSession\n",
    "\n",
    "sc = SparkContext.getOrCreate()\n",
    "spark = SparkSession(sc)"
   ]
  },
  {
   "cell_type": "code",
   "execution_count": null,
   "metadata": {},
   "outputs": [],
   "source": []
  },
  {
   "cell_type": "code",
   "execution_count": 3,
   "metadata": {},
   "outputs": [
    {
     "name": "stdout",
     "output_type": "stream",
     "text": [
      "+--------------+---------------------+----------------------+---------+---------+------------+-----------------+------------------+--------------------+----------+-----------+-----+--------------------------+-------------------------+--------------+---------------+---------+-----------+---------------+----------------+--------------+---------------+---------------------------------+---------------------------------------+----------------+------------------+-----------------------+--------------------------+-------------------+-------------------+-------------------------------------------+-------------------------+\n",
      "|Accident_Index|Location_Easting_OSGR|Location_Northing_OSGR|Longitude| Latitude|Police_Force|Accident_Severity|Number_of_Vehicles|Number_of_Casualties|      Date|Day_of_Week| Time|Local_Authority_(District)|Local_Authority_(Highway)|1st_Road_Class|1st_Road_Number|Road_Type|Speed_limit|Junction_Detail|Junction_Control|2nd_Road_Class|2nd_Road_Number|Pedestrian_Crossing-Human_Control|Pedestrian_Crossing-Physical_Facilities|Light_Conditions|Weather_Conditions|Road_Surface_Conditions|Special_Conditions_at_Site|Carriageway_Hazards|Urban_or_Rural_Area|Did_Police_Officer_Attend_Scene_of_Accident|LSOA_of_Accident_Location|\n",
      "+--------------+---------------------+----------------------+---------+---------+------------+-----------------+------------------+--------------------+----------+-----------+-----+--------------------------+-------------------------+--------------+---------------+---------+-----------+---------------+----------------+--------------+---------------+---------------------------------+---------------------------------------+----------------+------------------+-----------------------+--------------------------+-------------------+-------------------+-------------------------------------------+-------------------------+\n",
      "| 2019010128300|               528218|                180407|-0.153842|51.508057|           1|                3|                 2|                   3|18/02/2019|          2|17:50|                         1|                E09000033|             3|           4202|        1|         30|              1|               2|             3|           4202|                                0|                                      5|               1|                 1|                      1|                         0|                  0|                  1|                                          3|                E01004762|\n",
      "| 2019010152270|               530219|                172463|-0.127949|51.436208|           1|                3|                 2|                   1|15/01/2019|          3|21:45|                         9|                E09000022|             3|             23|        2|         30|              0|              -1|            -1|              0|                               -1|                                     -1|               4|                 1|                      1|                         0|                  0|                  1|                                          3|                E01003117|\n",
      "| 2019010155191|               530222|                182543|-0.124193|51.526795|           1|                3|                 2|                   1|01/01/2019|          3|01:50|                         2|                E09000007|             4|            504|        6|         30|              3|               4|             6|              0|                                0|                                      0|               4|                 1|                      1|                         0|                  0|                  1|                                          1|                E01000943|\n",
      "| 2019010155192|               525531|                184605|-0.191044|51.546387|           1|                2|                 1|                   1|01/01/2019|          3|01:20|                         2|                E09000007|             4|            510|        6|         20|              3|               4|             4|            510|                                0|                                      0|               4|                 1|                      1|                         0|                  0|                  1|                                          1|                E01000973|\n",
      "| 2019010155194|               524920|                184004|-0.200064|51.541121|           1|                3|                 2|                   2|01/01/2019|          3|00:40|                        28|                E09000005|             3|           4003|        6|         30|              6|               4|             6|              0|                                0|                                      0|               4|                 1|                      1|                         0|                  0|                  1|                                          1|                E01000546|\n",
      "| 2019010155195|               540188|                185266| 0.020461|51.548879|           1|                3|                 2|                   3|01/01/2019|          3|02:45|                        17|                E09000025|             5|              0|        3|         30|              0|              -1|            -1|              0|                                0|                                      0|               4|                 1|                      1|                         0|                  0|                  1|                                          1|                E01003544|\n",
      "| 2019010155196|               532424|                164886|-0.099071|51.367605|           1|                3|                 1|                   1|01/01/2019|          3|01:35|                        20|                E09000008|             3|            235|        6|         30|              6|               2|             4|            271|                                0|                                      5|               4|                 1|                      1|                         0|                  0|                  1|                                          1|                E01001043|\n",
      "| 2019010155198|               532773|                178460|-0.088978|51.489509|           1|                3|                 3|                   5|01/01/2019|          3|02:10|                         8|                E09000028|             6|              0|        6|         20|              3|               4|             6|              0|                                0|                                      0|               4|                 1|                      1|                         0|                  0|                  1|                                          1|                E01003972|\n",
      "| 2019010155206|               548535|                188113| 0.141957|51.572326|           1|                3|                 2|                   1|01/01/2019|          3|01:15|                        16|                E09000002|             3|           1112|        6|         30|              6|               2|             3|            118|                                0|                                      5|               4|                 1|                      1|                         0|                  0|                  1|                                          1|                E01000031|\n",
      "| 2019010155207|               522267|                168185|-0.243769|51.399529|           1|                3|                 3|                   1|01/01/2019|          3|04:30|                        22|                E09000024|             4|            282|        7|         30|              1|               4|             3|              3|                                0|                                      0|               4|                 1|                      1|                         0|                  0|                  1|                                          1|                E01003469|\n",
      "+--------------+---------------------+----------------------+---------+---------+------------+-----------------+------------------+--------------------+----------+-----------+-----+--------------------------+-------------------------+--------------+---------------+---------+-----------+---------------+----------------+--------------+---------------+---------------------------------+---------------------------------------+----------------+------------------+-----------------------+--------------------------+-------------------+-------------------+-------------------------------------------+-------------------------+\n",
      "only showing top 10 rows\n",
      "\n"
     ]
    }
   ],
   "source": [
    "# Load the data\n",
    "dataset = spark.read.csv(\"file://\"+ SparkFiles.get(\"/Users/bernardoaugusto/Desktop/3º ano/1º semestre/Big Data/Project/2/Road Safety Data - Accidents 2019.csv\"),header=True, sep=\",\", inferSchema=True)\n",
    "\n",
    "#show top 10 rows\n",
    "dataset.show(10) "
   ]
  },
  {
   "cell_type": "code",
   "execution_count": null,
   "metadata": {},
   "outputs": [],
   "source": []
  },
  {
   "cell_type": "code",
   "execution_count": 4,
   "metadata": {},
   "outputs": [],
   "source": [
    "# Drop the -1 values from the spark dataset\n",
    "dataset = dataset.filter((dataset[\"Light_Conditions\"] != -1) & (dataset[\"Junction_Control\"] != -1) & (dataset[\"2nd_Road_Class\"] != -1)\n",
    "                        & (dataset[\"Pedestrian_Crossing-Human_Control\"] != -1) & (dataset[\"Pedestrian_Crossing-Physical_Facilities\"] != -1)\n",
    "                        & (dataset[\"Road_Surface_COnditions\"] != -1) & (dataset[\"Special_Conditions_at_Site\"] != -1)\n",
    "                        & (dataset[\"Carriageway_Hazards\"] != -1)\n",
    "                        )"
   ]
  },
  {
   "cell_type": "code",
   "execution_count": null,
   "metadata": {},
   "outputs": [],
   "source": []
  },
  {
   "cell_type": "code",
   "execution_count": 5,
   "metadata": {},
   "outputs": [
    {
     "data": {
      "text/plain": [
       "DataFrame[Accident_Index: string, Location_Easting_OSGR: int, Location_Northing_OSGR: int, Longitude: double, Latitude: double, Police_Force: int, Accident_Severity: int, Number_of_Vehicles: int, Number_of_Casualties: int, Date: string, Day_of_Week: int, Time: string, Local_Authority_(District): int, Local_Authority_(Highway): string, 1st_Road_Class: int, 1st_Road_Number: int, Road_Type: int, Speed_limit: int, Junction_Detail: int, Junction_Control: int, 2nd_Road_Class: int, 2nd_Road_Number: int, Pedestrian_Crossing-Human_Control: int, Pedestrian_Crossing-Physical_Facilities: int, Light_Conditions: int, Weather_Conditions: int, Road_Surface_Conditions: int, Special_Conditions_at_Site: int, Carriageway_Hazards: int, Urban_or_Rural_Area: int, Did_Police_Officer_Attend_Scene_of_Accident: int, LSOA_of_Accident_Location: string]"
      ]
     },
     "execution_count": 5,
     "metadata": {},
     "output_type": "execute_result"
    }
   ],
   "source": [
    "dataset.na.drop(\"all\")"
   ]
  },
  {
   "cell_type": "code",
   "execution_count": null,
   "metadata": {},
   "outputs": [],
   "source": []
  },
  {
   "cell_type": "code",
   "execution_count": 6,
   "metadata": {},
   "outputs": [],
   "source": [
    "# drop the indexes and the correlated variables\n",
    "dataset = dataset.drop(\"Accident_Index\", \"Location_Easting_OSGR\", \"Location_Northing_OSGR\", \"Police_Force\", \"LSOA_of_Accident_Location\", \n",
    "                      \"Local_Authority_(Highway)\", \"Time\", \"Date\", \"Longitude\", \"Latitude\")"
   ]
  },
  {
   "cell_type": "code",
   "execution_count": null,
   "metadata": {},
   "outputs": [],
   "source": []
  },
  {
   "cell_type": "code",
   "execution_count": 7,
   "metadata": {},
   "outputs": [
    {
     "name": "stdout",
     "output_type": "stream",
     "text": [
      "root\n",
      " |-- Accident_Severity: integer (nullable = true)\n",
      " |-- Number_of_Vehicles: integer (nullable = true)\n",
      " |-- Number_of_Casualties: integer (nullable = true)\n",
      " |-- Day_of_Week: integer (nullable = true)\n",
      " |-- Local_Authority_(District): integer (nullable = true)\n",
      " |-- 1st_Road_Class: integer (nullable = true)\n",
      " |-- 1st_Road_Number: integer (nullable = true)\n",
      " |-- Road_Type: integer (nullable = true)\n",
      " |-- Speed_limit: integer (nullable = true)\n",
      " |-- Junction_Detail: integer (nullable = true)\n",
      " |-- Junction_Control: integer (nullable = true)\n",
      " |-- 2nd_Road_Class: integer (nullable = true)\n",
      " |-- 2nd_Road_Number: integer (nullable = true)\n",
      " |-- Pedestrian_Crossing-Human_Control: integer (nullable = true)\n",
      " |-- Pedestrian_Crossing-Physical_Facilities: integer (nullable = true)\n",
      " |-- Light_Conditions: integer (nullable = true)\n",
      " |-- Weather_Conditions: integer (nullable = true)\n",
      " |-- Road_Surface_Conditions: integer (nullable = true)\n",
      " |-- Special_Conditions_at_Site: integer (nullable = true)\n",
      " |-- Carriageway_Hazards: integer (nullable = true)\n",
      " |-- Urban_or_Rural_Area: integer (nullable = true)\n",
      " |-- Did_Police_Officer_Attend_Scene_of_Accident: integer (nullable = true)\n",
      "\n"
     ]
    }
   ],
   "source": [
    "# Schema\n",
    "dataset.printSchema()"
   ]
  },
  {
   "cell_type": "code",
   "execution_count": null,
   "metadata": {},
   "outputs": [],
   "source": []
  },
  {
   "cell_type": "markdown",
   "metadata": {},
   "source": [
    "# ML Pipeline"
   ]
  },
  {
   "cell_type": "code",
   "execution_count": 20,
   "metadata": {},
   "outputs": [
    {
     "name": "stdout",
     "output_type": "stream",
     "text": [
      "+-----------------+------------------+--------------------+-----------+--------------------------+--------------+---------------+---------+-----------+---------------+----------------+--------------+---------------+---------------------------------+---------------------------------------+----------------+------------------+-----------------------+--------------------------+-------------------+-------------------+-------------------------------------------+--------------------+------+\n",
      "|Accident_Severity|Number_of_Vehicles|Number_of_Casualties|Day_of_Week|Local_Authority_(District)|1st_Road_Class|1st_Road_Number|Road_Type|Speed_limit|Junction_Detail|Junction_Control|2nd_Road_Class|2nd_Road_Number|Pedestrian_Crossing-Human_Control|Pedestrian_Crossing-Physical_Facilities|Light_Conditions|Weather_Conditions|Road_Surface_Conditions|Special_Conditions_at_Site|Carriageway_Hazards|Urban_or_Rural_Area|Did_Police_Officer_Attend_Scene_of_Accident|            features|target|\n",
      "+-----------------+------------------+--------------------+-----------+--------------------------+--------------+---------------+---------+-----------+---------------+----------------+--------------+---------------+---------------------------------+---------------------------------------+----------------+------------------+-----------------------+--------------------------+-------------------+-------------------+-------------------------------------------+--------------------+------+\n",
      "|                3|                 2|                   3|          2|                         1|             3|           4202|        1|         30|              1|               2|             3|           4202|                                0|                                      5|               1|                 1|                      1|                         0|                  0|                  1|                                          3|[2.0,3.0,2.0,1.0,...|     3|\n",
      "|                3|                 2|                   1|          3|                         2|             4|            504|        6|         30|              3|               4|             6|              0|                                0|                                      0|               4|                 1|                      1|                         0|                  0|                  1|                                          1|[2.0,1.0,3.0,2.0,...|     3|\n",
      "|                2|                 1|                   1|          3|                         2|             4|            510|        6|         20|              3|               4|             4|            510|                                0|                                      0|               4|                 1|                      1|                         0|                  0|                  1|                                          1|[1.0,1.0,3.0,2.0,...|     2|\n",
      "|                3|                 2|                   2|          3|                        28|             3|           4003|        6|         30|              6|               4|             6|              0|                                0|                                      0|               4|                 1|                      1|                         0|                  0|                  1|                                          1|[2.0,2.0,3.0,28.0...|     3|\n",
      "|                3|                 1|                   1|          3|                        20|             3|            235|        6|         30|              6|               2|             4|            271|                                0|                                      5|               4|                 1|                      1|                         0|                  0|                  1|                                          1|[1.0,1.0,3.0,20.0...|     3|\n",
      "+-----------------+------------------+--------------------+-----------+--------------------------+--------------+---------------+---------+-----------+---------------+----------------+--------------+---------------+---------------------------------+---------------------------------------+----------------+------------------+-----------------------+--------------------------+-------------------+-------------------+-------------------------------------------+--------------------+------+\n",
      "only showing top 5 rows\n",
      "\n"
     ]
    }
   ],
   "source": [
    "from pyspark.ml.linalg import Vectors\n",
    "from pyspark.ml.feature import VectorAssembler\n",
    "\n",
    "# transformer\n",
    "vector_assembler = VectorAssembler(inputCols=[\"Number_of_Vehicles\", \"Number_of_Casualties\", \"Day_of_Week\", \n",
    "                                              \"Local_Authority_(District)\", \"1st_Road_Class\", \"1st_Road_Number\", \n",
    "                                              \"Road_Type\", \"Speed_limit\", \"Junction_Detail\", \"Junction_Control\", \"2nd_Road_Class\", \n",
    "                                              \"2nd_Road_Number\", \"Pedestrian_Crossing-Human_Control\", \"Pedestrian_Crossing-Physical_Facilities\", \n",
    "                                              \"Light_Conditions\", \"Weather_Conditions\", \"Road_Surface_Conditions\", \"Special_Conditions_at_Site\", \n",
    "                                              \"Carriageway_Hazards\", \"Urban_or_Rural_Area\", \"Did_Police_Officer_Attend_Scene_of_Accident\"\n",
    "                                             ],outputCol=\"features\")\n",
    "output = vector_assembler.transform(dataset)\n",
    "output = output.withColumn('target', output.Accident_Severity)\n",
    "output.show(5)"
   ]
  },
  {
   "cell_type": "code",
   "execution_count": null,
   "metadata": {},
   "outputs": [],
   "source": []
  },
  {
   "cell_type": "markdown",
   "metadata": {},
   "source": [
    "# Convert into Binary"
   ]
  },
  {
   "cell_type": "code",
   "execution_count": 21,
   "metadata": {},
   "outputs": [
    {
     "name": "stdout",
     "output_type": "stream",
     "text": [
      "+------+-------------+\n",
      "|Target|Binary Target|\n",
      "+------+-------------+\n",
      "|     3|            1|\n",
      "|     3|            1|\n",
      "|     2|            0|\n",
      "|     3|            1|\n",
      "|     3|            1|\n",
      "+------+-------------+\n",
      "only showing top 5 rows\n",
      "\n"
     ]
    }
   ],
   "source": [
    "from pyspark.sql import functions as F\n",
    "\n",
    "output = output.withColumn(\"Accident_Severity\", F.when(F.col(\"Accident_Severity\")<=2,0).otherwise(F.when(F.col(\"Accident_Severity\")>2,1)))\n",
    "\n",
    "output = output.withColumn(\"Binary Target\", output.Accident_Severity)\n",
    "\n",
    "output.select(\"Target\", \"Binary Target\").show(5)"
   ]
  },
  {
   "cell_type": "code",
   "execution_count": null,
   "metadata": {},
   "outputs": [],
   "source": []
  },
  {
   "cell_type": "markdown",
   "metadata": {},
   "source": [
    "# Standardizing features"
   ]
  },
  {
   "cell_type": "code",
   "execution_count": 22,
   "metadata": {},
   "outputs": [
    {
     "name": "stdout",
     "output_type": "stream",
     "text": [
      "+--------------------+--------------------+\n",
      "|            features|      scaledFeatures|\n",
      "+--------------------+--------------------+\n",
      "|[2.0,3.0,2.0,1.0,...|[3.27972936072257...|\n",
      "|[2.0,1.0,3.0,2.0,...|[3.27972936072257...|\n",
      "|[1.0,1.0,3.0,2.0,...|[1.63986468036128...|\n",
      "|[2.0,2.0,3.0,28.0...|[3.27972936072257...|\n",
      "|[1.0,1.0,3.0,20.0...|[1.63986468036128...|\n",
      "+--------------------+--------------------+\n",
      "only showing top 5 rows\n",
      "\n"
     ]
    }
   ],
   "source": [
    "from pyspark.ml.feature import StandardScaler\n",
    "\n",
    "scaler = StandardScaler(inputCol=\"features\", outputCol=\"scaledFeatures\", withStd=True, withMean=False)\n",
    "\n",
    "scalerModel = scaler.fit(output).transform(output)\n",
    "\n",
    "scalerModel.select(\"features\",\"scaledFeatures\").show(5)"
   ]
  },
  {
   "cell_type": "code",
   "execution_count": null,
   "metadata": {},
   "outputs": [],
   "source": []
  },
  {
   "cell_type": "markdown",
   "metadata": {},
   "source": [
    "# Undersampling"
   ]
  },
  {
   "cell_type": "code",
   "execution_count": 23,
   "metadata": {},
   "outputs": [
    {
     "name": "stdout",
     "output_type": "stream",
     "text": [
      "ratio: 3\n"
     ]
    }
   ],
   "source": [
    "from pyspark.sql.functions import col, explode, array, lit\n",
    "\n",
    "major_df = scalerModel.filter(col(\"Binary Target\") == 1)\n",
    "minor_df = scalerModel.filter(col(\"Binary Target\") == 0)\n",
    "ratio = int(major_df.count()/minor_df.count())\n",
    "print(\"ratio: {}\".format(ratio))"
   ]
  },
  {
   "cell_type": "code",
   "execution_count": 24,
   "metadata": {},
   "outputs": [
    {
     "name": "stdout",
     "output_type": "stream",
     "text": [
      "+-----------------+------------------+--------------------+-----------+--------------------------+--------------+---------------+---------+-----------+---------------+----------------+--------------+---------------+---------------------------------+---------------------------------------+----------------+------------------+-----------------------+--------------------------+-------------------+-------------------+-------------------------------------------+--------------------+------+-------------+--------------------+\n",
      "|Accident_Severity|Number_of_Vehicles|Number_of_Casualties|Day_of_Week|Local_Authority_(District)|1st_Road_Class|1st_Road_Number|Road_Type|Speed_limit|Junction_Detail|Junction_Control|2nd_Road_Class|2nd_Road_Number|Pedestrian_Crossing-Human_Control|Pedestrian_Crossing-Physical_Facilities|Light_Conditions|Weather_Conditions|Road_Surface_Conditions|Special_Conditions_at_Site|Carriageway_Hazards|Urban_or_Rural_Area|Did_Police_Officer_Attend_Scene_of_Accident|            features|target|Binary Target|      scaledFeatures|\n",
      "+-----------------+------------------+--------------------+-----------+--------------------------+--------------+---------------+---------+-----------+---------------+----------------+--------------+---------------+---------------------------------+---------------------------------------+----------------+------------------+-----------------------+--------------------------+-------------------+-------------------+-------------------------------------------+--------------------+------+-------------+--------------------+\n",
      "|                1|                 2|                   2|          3|                        28|             3|           4003|        6|         30|              6|               4|             6|              0|                                0|                                      0|               4|                 1|                      1|                         0|                  0|                  1|                                          1|[2.0,2.0,3.0,28.0...|     3|            1|[3.27972936072257...|\n",
      "|                1|                 2|                   1|          3|                        16|             3|           1112|        6|         30|              6|               2|             3|            118|                                0|                                      5|               4|                 1|                      1|                         0|                  0|                  1|                                          1|[2.0,1.0,3.0,16.0...|     3|            1|[3.27972936072257...|\n",
      "|                1|                 2|                   1|          3|                         5|             3|           1206|        1|         40|              1|               4|             3|           1261|                                0|                                      0|               4|                 1|                      1|                         0|                  0|                  1|                                          1|[2.0,1.0,3.0,5.0,...|     3|            1|[3.27972936072257...|\n",
      "|                1|                 2|                   1|          3|                         5|             5|              0|        6|         20|              6|               4|             6|              0|                                0|                                      0|               4|                 1|                      1|                         0|                  0|                  1|                                          1|[2.0,1.0,3.0,5.0,...|     3|            1|[3.27972936072257...|\n",
      "|                1|                 2|                   1|          3|                        11|             6|              0|        6|         30|              3|               4|             3|            402|                                0|                                      0|               4|                 1|                      1|                         0|                  0|                  1|                                          1|[2.0,1.0,3.0,11.0...|     3|            1|[3.27972936072257...|\n",
      "+-----------------+------------------+--------------------+-----------+--------------------------+--------------+---------------+---------+-----------+---------------+----------------+--------------+---------------+---------------------------------+---------------------------------------+----------------+------------------+-----------------------+--------------------------+-------------------+-------------------+-------------------------------------------+--------------------+------+-------------+--------------------+\n",
      "only showing top 5 rows\n",
      "\n"
     ]
    }
   ],
   "source": [
    "sampled_majority_df = major_df.sample(False, 1/ratio)\n",
    "combined_df_2 = sampled_majority_df.unionAll(minor_df)\n",
    "scalerModel = combined_df_2\n",
    "scalerModel.show(5)"
   ]
  },
  {
   "cell_type": "code",
   "execution_count": null,
   "metadata": {},
   "outputs": [],
   "source": []
  },
  {
   "cell_type": "code",
   "execution_count": 25,
   "metadata": {},
   "outputs": [
    {
     "name": "stdout",
     "output_type": "stream",
     "text": [
      "+--------------------+-----------------+\n",
      "|      scaledFeatures|Accident_Severity|\n",
      "+--------------------+-----------------+\n",
      "|[3.27972936072257...|                1|\n",
      "|[3.27972936072257...|                1|\n",
      "|[3.27972936072257...|                1|\n",
      "|[3.27972936072257...|                1|\n",
      "|[3.27972936072257...|                1|\n",
      "+--------------------+-----------------+\n",
      "only showing top 5 rows\n",
      "\n"
     ]
    }
   ],
   "source": [
    "final_data = scalerModel.select(\"scaledFeatures\",\"Accident_Severity\")\n",
    "\n",
    "final_data.show(5)"
   ]
  },
  {
   "cell_type": "code",
   "execution_count": null,
   "metadata": {},
   "outputs": [],
   "source": []
  },
  {
   "cell_type": "code",
   "execution_count": 26,
   "metadata": {},
   "outputs": [
    {
     "name": "stdout",
     "output_type": "stream",
     "text": [
      "training dataset: 20748\n",
      "test dataset: 9036\n"
     ]
    }
   ],
   "source": [
    "train, test = final_data.randomSplit([0.7, 0.3],seed=1000)\n",
    "print(\"training dataset:\", str(train.count()))\n",
    "print(\"test dataset:\", str(test.count()))"
   ]
  },
  {
   "cell_type": "code",
   "execution_count": null,
   "metadata": {},
   "outputs": [],
   "source": []
  },
  {
   "cell_type": "markdown",
   "metadata": {},
   "source": [
    "# Logistic Regression"
   ]
  },
  {
   "cell_type": "code",
   "execution_count": 27,
   "metadata": {},
   "outputs": [],
   "source": [
    "from pyspark.ml.classification import LogisticRegression\n",
    "from pyspark.ml.evaluation import BinaryClassificationEvaluator\n",
    "from sklearn import metrics\n",
    "from sklearn.metrics import classification_report \n",
    "\n",
    "lr = LogisticRegression(featuresCol = 'scaledFeatures',labelCol=\"Accident_Severity\", maxIter=5)\n",
    "\n",
    "lrModel = lr.fit(train)"
   ]
  },
  {
   "cell_type": "code",
   "execution_count": 28,
   "metadata": {},
   "outputs": [],
   "source": [
    "predict_train=lrModel.transform(train)\n",
    "predict_test=lrModel.transform(test)"
   ]
  },
  {
   "cell_type": "code",
   "execution_count": 29,
   "metadata": {},
   "outputs": [
    {
     "name": "stdout",
     "output_type": "stream",
     "text": [
      "+-----------------+----------+\n",
      "|Accident_Severity|prediction|\n",
      "+-----------------+----------+\n",
      "|                1|       1.0|\n",
      "|                1|       1.0|\n",
      "|                1|       1.0|\n",
      "|                1|       0.0|\n",
      "|                1|       0.0|\n",
      "+-----------------+----------+\n",
      "only showing top 5 rows\n",
      "\n",
      "Train score 0.6302466268000029\n",
      "Test score 0.6337443454305766\n"
     ]
    }
   ],
   "source": [
    "evaluator=BinaryClassificationEvaluator(rawPredictionCol=\"rawPrediction\",labelCol=\"Accident_Severity\")\n",
    "\n",
    "predict_test.select(\"Accident_Severity\",\"prediction\").show(5)\n",
    "\n",
    "print(\"Train score {}\".format(evaluator.evaluate(predict_train)))\n",
    "print(\"Test score {}\".format(evaluator.evaluate(predict_test)))"
   ]
  },
  {
   "cell_type": "code",
   "execution_count": 30,
   "metadata": {},
   "outputs": [
    {
     "name": "stdout",
     "output_type": "stream",
     "text": [
      "              precision    recall  f1-score   support\n",
      "\n",
      "           0       0.56      0.37      0.44      3841\n",
      "           1       0.63      0.78      0.70      5195\n",
      "\n",
      "    accuracy                           0.61      9036\n",
      "   macro avg       0.59      0.58      0.57      9036\n",
      "weighted avg       0.60      0.61      0.59      9036\n",
      "\n"
     ]
    }
   ],
   "source": [
    "print(classification_report(test.select(\"Accident_Severity\").toPandas(), predict_test.select(\"prediction\").toPandas()))"
   ]
  },
  {
   "cell_type": "code",
   "execution_count": null,
   "metadata": {},
   "outputs": [],
   "source": []
  },
  {
   "cell_type": "code",
   "execution_count": null,
   "metadata": {},
   "outputs": [],
   "source": []
  }
 ],
 "metadata": {
  "kernelspec": {
   "display_name": "Python 3",
   "language": "python",
   "name": "python3"
  },
  "language_info": {
   "codemirror_mode": {
    "name": "ipython",
    "version": 3
   },
   "file_extension": ".py",
   "mimetype": "text/x-python",
   "name": "python",
   "nbconvert_exporter": "python",
   "pygments_lexer": "ipython3",
   "version": "3.8.3"
  }
 },
 "nbformat": 4,
 "nbformat_minor": 4
}
